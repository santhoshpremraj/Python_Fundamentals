{
 "cells": [
  {
   "cell_type": "code",
   "execution_count": null,
   "id": "4f03f7a3",
   "metadata": {},
   "outputs": [],
   "source": [
    "List"
   ]
  },
  {
   "cell_type": "code",
   "execution_count": 32,
   "id": "83831af0",
   "metadata": {},
   "outputs": [
    {
     "name": "stdout",
     "output_type": "stream",
     "text": [
      "['vinoth', 'santhosh', 'sai', 'ram', 'kavil', 'ramya', 'rohan']\n"
     ]
    }
   ],
   "source": [
    "students = ['vinoth', 'santhosh','sai', 'ram','kavil', 'ramya', 'rohan']\n",
    "print(students)"
   ]
  },
  {
   "cell_type": "code",
   "execution_count": 25,
   "id": "8d90cde5",
   "metadata": {},
   "outputs": [
    {
     "data": {
      "text/plain": [
       "list"
      ]
     },
     "execution_count": 25,
     "metadata": {},
     "output_type": "execute_result"
    }
   ],
   "source": [
    "type(students)"
   ]
  },
  {
   "cell_type": "code",
   "execution_count": null,
   "id": "ebe140a0",
   "metadata": {},
   "outputs": [],
   "source": [
    "Indexing In List"
   ]
  },
  {
   "cell_type": "code",
   "execution_count": 26,
   "id": "1820e86c",
   "metadata": {},
   "outputs": [
    {
     "name": "stdout",
     "output_type": "stream",
     "text": [
      "santhosh\n"
     ]
    }
   ],
   "source": [
    "print(students[1])"
   ]
  },
  {
   "cell_type": "code",
   "execution_count": 27,
   "id": "14866039",
   "metadata": {},
   "outputs": [
    {
     "name": "stdout",
     "output_type": "stream",
     "text": [
      "Santhosh\n"
     ]
    }
   ],
   "source": [
    "print(students[1].title())"
   ]
  },
  {
   "cell_type": "code",
   "execution_count": null,
   "id": "b55bbe2d",
   "metadata": {},
   "outputs": [],
   "source": [
    "=====> List Operations <======"
   ]
  },
  {
   "cell_type": "code",
   "execution_count": 33,
   "id": "914779f3",
   "metadata": {},
   "outputs": [
    {
     "name": "stdout",
     "output_type": "stream",
     "text": [
      "['vinoth', 'santhosh', 'sai', 'ram', 'kavil', 'ramya', 'rohan', 'kunal']\n"
     ]
    }
   ],
   "source": [
    "students.append('kunal')\n",
    "print(students)"
   ]
  },
  {
   "cell_type": "code",
   "execution_count": null,
   "id": "8a172522",
   "metadata": {},
   "outputs": [],
   "source": [
    "#add firdous to 2nd index"
   ]
  },
  {
   "cell_type": "code",
   "execution_count": 34,
   "id": "8d3f1937",
   "metadata": {},
   "outputs": [
    {
     "name": "stdout",
     "output_type": "stream",
     "text": [
      "['vinoth', 'santhosh', 'firdous', 'sai', 'ram', 'kavil', 'ramya', 'rohan', 'kunal']\n"
     ]
    }
   ],
   "source": [
    "students.insert(2,'firdous')\n",
    "print(students)"
   ]
  },
  {
   "cell_type": "code",
   "execution_count": 31,
   "id": "ac57808e",
   "metadata": {},
   "outputs": [
    {
     "name": "stdout",
     "output_type": "stream",
     "text": [
      "Firdous\n"
     ]
    }
   ],
   "source": [
    "print(students[2].title())"
   ]
  },
  {
   "cell_type": "code",
   "execution_count": null,
   "id": "45f90ef0",
   "metadata": {},
   "outputs": [],
   "source": [
    "#change name from vinoth to vani"
   ]
  },
  {
   "cell_type": "code",
   "execution_count": 36,
   "id": "0d203923",
   "metadata": {},
   "outputs": [
    {
     "name": "stdout",
     "output_type": "stream",
     "text": [
      "['vani', 'santhosh', 'firdous', 'sai', 'ram', 'kavil', 'ramya', 'rohan', 'kunal']\n"
     ]
    }
   ],
   "source": [
    "students[0]='vani'\n",
    "print(students)"
   ]
  },
  {
   "cell_type": "code",
   "execution_count": null,
   "id": "768799b8",
   "metadata": {},
   "outputs": [],
   "source": [
    "#del using pop()"
   ]
  },
  {
   "cell_type": "code",
   "execution_count": 37,
   "id": "d98c90ed",
   "metadata": {},
   "outputs": [
    {
     "name": "stdout",
     "output_type": "stream",
     "text": [
      "['vani', 'santhosh', 'firdous', 'sai', 'ram', 'kavil', 'ramya', 'rohan']\n"
     ]
    }
   ],
   "source": [
    "x = students.pop()\n",
    "print(students)"
   ]
  },
  {
   "cell_type": "code",
   "execution_count": 38,
   "id": "0fd72dd4",
   "metadata": {},
   "outputs": [
    {
     "name": "stdout",
     "output_type": "stream",
     "text": [
      "kunal\n"
     ]
    }
   ],
   "source": [
    "print(x)"
   ]
  },
  {
   "cell_type": "code",
   "execution_count": 39,
   "id": "83d954e1",
   "metadata": {},
   "outputs": [
    {
     "name": "stdout",
     "output_type": "stream",
     "text": [
      "['vani', 'santhosh', 'sai', 'ram', 'kavil', 'ramya', 'rohan']\n"
     ]
    }
   ],
   "source": [
    "y = students.pop(2)\n",
    "print(students)"
   ]
  },
  {
   "cell_type": "code",
   "execution_count": 40,
   "id": "68e19297",
   "metadata": {},
   "outputs": [],
   "source": [
    "del students[0]"
   ]
  },
  {
   "cell_type": "code",
   "execution_count": 42,
   "id": "3aaab92d",
   "metadata": {},
   "outputs": [
    {
     "name": "stdout",
     "output_type": "stream",
     "text": [
      "['santhosh', 'sai', 'ram', 'kavil', 'ramya', 'rohan']\n"
     ]
    }
   ],
   "source": [
    "print(students)"
   ]
  },
  {
   "cell_type": "code",
   "execution_count": null,
   "id": "5666e52b",
   "metadata": {},
   "outputs": [],
   "source": []
  }
 ],
 "metadata": {
  "kernelspec": {
   "display_name": "Python 3 (ipykernel)",
   "language": "python",
   "name": "python3"
  },
  "language_info": {
   "codemirror_mode": {
    "name": "ipython",
    "version": 3
   },
   "file_extension": ".py",
   "mimetype": "text/x-python",
   "name": "python",
   "nbconvert_exporter": "python",
   "pygments_lexer": "ipython3",
   "version": "3.11.3"
  }
 },
 "nbformat": 4,
 "nbformat_minor": 5
}
