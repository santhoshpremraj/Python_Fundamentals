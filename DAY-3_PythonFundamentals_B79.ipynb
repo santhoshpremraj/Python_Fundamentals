{
 "cells": [
  {
   "cell_type": "code",
   "execution_count": null,
   "id": "d6a91688",
   "metadata": {},
   "outputs": [],
   "source": [
    "f-string"
   ]
  },
  {
   "cell_type": "code",
   "execution_count": 16,
   "id": "c5c0a4af",
   "metadata": {},
   "outputs": [
    {
     "name": "stdout",
     "output_type": "stream",
     "text": [
      " praveen kumar\n"
     ]
    }
   ],
   "source": [
    "firstname='praveen'\n",
    "lastname='kumar'\n",
    "fullname=f\" {firstname} {lastname}\"\n",
    "print(fullname)"
   ]
  },
  {
   "cell_type": "code",
   "execution_count": 14,
   "id": "573f5715",
   "metadata": {},
   "outputs": [
    {
     "name": "stdout",
     "output_type": "stream",
     "text": [
      " keep up good work, praveen kumar\n"
     ]
    }
   ],
   "source": [
    "firstname='praveen'\n",
    "lastname='kumar'\n",
    "message=f\" keep up good work, {firstname} {lastname}\"\n",
    "print(message)"
   ]
  },
  {
   "cell_type": "code",
   "execution_count": null,
   "id": "73c3f48a",
   "metadata": {},
   "outputs": [],
   "source": [
    "Adding Whitespace"
   ]
  },
  {
   "cell_type": "code",
   "execution_count": 15,
   "id": "2b8f49a2",
   "metadata": {},
   "outputs": [
    {
     "name": "stdout",
     "output_type": "stream",
     "text": [
      "Fav_lang: \n",
      "python\n",
      "java\n",
      "c++\n",
      "JS\n"
     ]
    }
   ],
   "source": [
    "print(\"Fav_lang: \\npython\\njava\\nc++\\nJS\")"
   ]
  },
  {
   "cell_type": "code",
   "execution_count": 17,
   "id": "ebf1a070",
   "metadata": {},
   "outputs": [
    {
     "name": "stdout",
     "output_type": "stream",
     "text": [
      "fav_lang: \n",
      "\tpython\n",
      "\tjava\n",
      "\tc++\n",
      "\tJS\n"
     ]
    }
   ],
   "source": [
    "print(\"fav_lang: \\n\\tpython\\n\\tjava\\n\\tc++\\n\\tJS\")\n"
   ]
  },
  {
   "cell_type": "code",
   "execution_count": null,
   "id": "f36e1605",
   "metadata": {},
   "outputs": [],
   "source": [
    "remove whitespace"
   ]
  },
  {
   "cell_type": "code",
   "execution_count": 18,
   "id": "eeba3b71",
   "metadata": {},
   "outputs": [
    {
     "name": "stdout",
     "output_type": "stream",
     "text": [
      " python\n"
     ]
    }
   ],
   "source": [
    "language=' python'\n",
    "print(language)"
   ]
  },
  {
   "cell_type": "code",
   "execution_count": 19,
   "id": "2be0a74b",
   "metadata": {},
   "outputs": [
    {
     "data": {
      "text/plain": [
       "'python'"
      ]
     },
     "execution_count": 19,
     "metadata": {},
     "output_type": "execute_result"
    }
   ],
   "source": [
    "language.lstrip()"
   ]
  },
  {
   "cell_type": "code",
   "execution_count": 20,
   "id": "b57867e3",
   "metadata": {},
   "outputs": [
    {
     "name": "stdout",
     "output_type": "stream",
     "text": [
      "python \n"
     ]
    }
   ],
   "source": [
    "language='python '\n",
    "print(language)"
   ]
  },
  {
   "cell_type": "code",
   "execution_count": 21,
   "id": "b24412a3",
   "metadata": {},
   "outputs": [
    {
     "data": {
      "text/plain": [
       "'python'"
      ]
     },
     "execution_count": 21,
     "metadata": {},
     "output_type": "execute_result"
    }
   ],
   "source": [
    "language.rstrip()"
   ]
  },
  {
   "cell_type": "code",
   "execution_count": 22,
   "id": "ae50d041",
   "metadata": {},
   "outputs": [
    {
     "name": "stdout",
     "output_type": "stream",
     "text": [
      " python \n"
     ]
    }
   ],
   "source": [
    "language=' python '\n",
    "print(language)"
   ]
  },
  {
   "cell_type": "code",
   "execution_count": 23,
   "id": "a3d12b28",
   "metadata": {},
   "outputs": [
    {
     "data": {
      "text/plain": [
       "'python'"
      ]
     },
     "execution_count": 23,
     "metadata": {},
     "output_type": "execute_result"
    }
   ],
   "source": [
    "language.strip()"
   ]
  },
  {
   "cell_type": "code",
   "execution_count": null,
   "id": "a634339d",
   "metadata": {},
   "outputs": [],
   "source": []
  }
 ],
 "metadata": {
  "kernelspec": {
   "display_name": "Python 3 (ipykernel)",
   "language": "python",
   "name": "python3"
  },
  "language_info": {
   "codemirror_mode": {
    "name": "ipython",
    "version": 3
   },
   "file_extension": ".py",
   "mimetype": "text/x-python",
   "name": "python",
   "nbconvert_exporter": "python",
   "pygments_lexer": "ipython3",
   "version": "3.11.3"
  }
 },
 "nbformat": 4,
 "nbformat_minor": 5
}
